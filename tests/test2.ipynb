{
 "cells": [
  {
   "cell_type": "code",
   "execution_count": 1,
   "id": "2da001da",
   "metadata": {},
   "outputs": [],
   "source": [
    "from ccip_terminal import estimate_gas_limit_from_recent_ccip_dev, load_accounts, get_dynamic_gas_fees, ROUTER_MAP, send_ccip_transfer, estimate_dynamic_gas, CHAIN_MAP"
   ]
  },
  {
   "cell_type": "code",
   "execution_count": 2,
   "id": "2bc73338",
   "metadata": {},
   "outputs": [],
   "source": [
    "from dotenv import load_dotenv\n",
    "import os"
   ]
  },
  {
   "cell_type": "markdown",
   "id": "9071c939",
   "metadata": {},
   "source": [
    "# Gas Estimates"
   ]
  },
  {
   "cell_type": "code",
   "execution_count": 3,
   "id": "6bb9b4a1",
   "metadata": {},
   "outputs": [],
   "source": [
    "source_chain = 'optimism'"
   ]
  },
  {
   "cell_type": "code",
   "execution_count": 4,
   "id": "cc7b8459",
   "metadata": {},
   "outputs": [],
   "source": [
    "PRIVATE_KEY = os.getenv('PRIVATE_KEY')"
   ]
  },
  {
   "cell_type": "code",
   "execution_count": 5,
   "id": "33d86f9a",
   "metadata": {},
   "outputs": [],
   "source": [
    "account_obj = load_accounts(source_chain)"
   ]
  },
  {
   "cell_type": "code",
   "execution_count": 6,
   "id": "ce3fcc39",
   "metadata": {},
   "outputs": [],
   "source": [
    "w3 = account_obj[0]['w3']"
   ]
  },
  {
   "cell_type": "code",
   "execution_count": 7,
   "id": "f57e3ff7",
   "metadata": {},
   "outputs": [],
   "source": [
    "account = w3.eth.account.from_key(PRIVATE_KEY)\n",
    "account_obj={\"account\": account, \"w3\": w3}"
   ]
  },
  {
   "cell_type": "code",
   "execution_count": 8,
   "id": "8f42c849",
   "metadata": {},
   "outputs": [
    {
     "data": {
      "text/plain": [
       "'0x38979DFdB5d8FD76FAD4E797c4660e20015C6a84'"
      ]
     },
     "execution_count": 8,
     "metadata": {},
     "output_type": "execute_result"
    }
   ],
   "source": [
    "account.address"
   ]
  },
  {
   "cell_type": "code",
   "execution_count": 9,
   "id": "a1c6db11",
   "metadata": {},
   "outputs": [],
   "source": [
    "gas_limit_est, min_limit_est, gas_used_values, receipts = estimate_gas_limit_from_recent_ccip_dev(w3)"
   ]
  },
  {
   "cell_type": "code",
   "execution_count": 10,
   "id": "caa6ec16",
   "metadata": {},
   "outputs": [
    {
     "data": {
      "text/plain": [
       "200549"
      ]
     },
     "execution_count": 10,
     "metadata": {},
     "output_type": "execute_result"
    }
   ],
   "source": [
    "min(gas_used_values)"
   ]
  },
  {
   "cell_type": "code",
   "execution_count": 11,
   "id": "5cb312f6",
   "metadata": {},
   "outputs": [
    {
     "data": {
      "text/plain": [
       "1537359"
      ]
     },
     "execution_count": 11,
     "metadata": {},
     "output_type": "execute_result"
    }
   ],
   "source": [
    "gas_limit_est"
   ]
  },
  {
   "cell_type": "code",
   "execution_count": 12,
   "id": "72d6eccc",
   "metadata": {},
   "outputs": [
    {
     "data": {
      "text/plain": [
       "280906"
      ]
     },
     "execution_count": 12,
     "metadata": {},
     "output_type": "execute_result"
    }
   ],
   "source": [
    "min_limit_est"
   ]
  },
  {
   "cell_type": "code",
   "execution_count": 13,
   "id": "9a28465f",
   "metadata": {},
   "outputs": [],
   "source": [
    "# raw = getattr(w3.eth, \"max_priority_fee\", None)\n",
    "# if callable(raw):\n",
    "#     tip = raw()\n",
    "# elif isinstance(raw, int):\n",
    "#     tip = raw\n",
    "# else:\n",
    "#     # fallback if your node doesn’t support it\n",
    "#     tip = w3.to_wei(2, \"gwei\")\n"
   ]
  },
  {
   "cell_type": "code",
   "execution_count": 14,
   "id": "72fbabda",
   "metadata": {},
   "outputs": [
    {
     "data": {
      "text/plain": [
       "1000000"
      ]
     },
     "execution_count": 14,
     "metadata": {},
     "output_type": "execute_result"
    }
   ],
   "source": [
    "fee = w3.eth.max_priority_fee\n",
    "fee"
   ]
  },
  {
   "cell_type": "code",
   "execution_count": 15,
   "id": "dd69ae61",
   "metadata": {},
   "outputs": [],
   "source": [
    "fees = get_dynamic_gas_fees(w3)"
   ]
  },
  {
   "cell_type": "code",
   "execution_count": 16,
   "id": "83cd8d82",
   "metadata": {},
   "outputs": [
    {
     "data": {
      "text/plain": [
       "1839254"
      ]
     },
     "execution_count": 16,
     "metadata": {},
     "output_type": "execute_result"
    }
   ],
   "source": [
    "max_fee_per_gas = fees[\"max_fee_per_gas\"]\n",
    "max_fee_per_gas"
   ]
  },
  {
   "cell_type": "code",
   "execution_count": 17,
   "id": "e4b1cc23",
   "metadata": {},
   "outputs": [
    {
     "data": {
      "text/plain": [
       "1755278"
      ]
     },
     "execution_count": 17,
     "metadata": {},
     "output_type": "execute_result"
    }
   ],
   "source": [
    "w3.eth.gas_price"
   ]
  },
  {
   "cell_type": "code",
   "execution_count": 18,
   "id": "2bdfd765",
   "metadata": {},
   "outputs": [
    {
     "data": {
      "text/plain": [
       "dict_keys(['base_fee', 'max_priority_fee', 'max_fee_per_gas', 'gas_price'])"
      ]
     },
     "execution_count": 18,
     "metadata": {},
     "output_type": "execute_result"
    }
   ],
   "source": [
    "fees.keys()"
   ]
  },
  {
   "cell_type": "code",
   "execution_count": 19,
   "id": "99593949",
   "metadata": {},
   "outputs": [
    {
     "data": {
      "text/plain": [
       "1537359"
      ]
     },
     "execution_count": 19,
     "metadata": {},
     "output_type": "execute_result"
    }
   ],
   "source": [
    "gas_limit_est"
   ]
  },
  {
   "cell_type": "code",
   "execution_count": 20,
   "id": "3dacdf3d",
   "metadata": {},
   "outputs": [],
   "source": [
    "etherscan_estimate = ((gas_limit_est * max_fee_per_gas) / 1e18) * 1.25\n",
    "min_etherscan_estimate = ((min_limit_est * max_fee_per_gas) / 1e18) * 1.25"
   ]
  },
  {
   "cell_type": "code",
   "execution_count": 21,
   "id": "ef724f5e",
   "metadata": {},
   "outputs": [],
   "source": [
    "max_gas_used_estimate = ((max(gas_used_values)*max_fee_per_gas)/ 1e18)* 1.25\n",
    "min_gas_used_estimate = ((min(gas_used_values)*max_fee_per_gas)/ 1e18)* 1.25"
   ]
  },
  {
   "cell_type": "code",
   "execution_count": 22,
   "id": "3534e0e4",
   "metadata": {},
   "outputs": [],
   "source": [
    "gas_limit = estimate_dynamic_gas(source_chain)\n",
    "gas_estimate = (gas_limit * max_fee_per_gas) / 1e18"
   ]
  },
  {
   "cell_type": "code",
   "execution_count": 23,
   "id": "2449ff2e",
   "metadata": {},
   "outputs": [
    {
     "data": {
      "text/plain": [
       "405999"
      ]
     },
     "execution_count": 23,
     "metadata": {},
     "output_type": "execute_result"
    }
   ],
   "source": [
    "gas_limit"
   ]
  },
  {
   "cell_type": "code",
   "execution_count": 24,
   "id": "6cf481ac",
   "metadata": {},
   "outputs": [],
   "source": [
    "chain_id = w3.eth.chain_id"
   ]
  },
  {
   "cell_type": "code",
   "execution_count": 25,
   "id": "9bd3e6f0",
   "metadata": {},
   "outputs": [],
   "source": [
    "import requests"
   ]
  },
  {
   "cell_type": "code",
   "execution_count": 24,
   "id": "d22786d5",
   "metadata": {},
   "outputs": [
    {
     "data": {
      "text/plain": [
       "{'status': '1',\n",
       " 'message': 'OK',\n",
       " 'result': {'LastBlock': '22286609',\n",
       "  'SafeGasPrice': '0.335521384',\n",
       "  'ProposeGasPrice': '0.344327026',\n",
       "  'FastGasPrice': '0.378759728',\n",
       "  'suggestBaseFee': '0.335217161',\n",
       "  'gasUsedRatio': '0.878576166666667,0.164860991337513,0.938872885015305,0.24195167442842,0.40347597898107'}}"
      ]
     },
     "execution_count": 24,
     "metadata": {},
     "output_type": "execute_result"
    }
   ],
   "source": [
    "url = f'https://api.etherscan.io/v2/api?chainid=1&module=gastracker&action=gasoracle&apikey=H8KEKDMWJN9TX6CAZHN6IUFUV6TP8Z13CD'\n",
    "\n",
    "r = requests.get(url)\n",
    "r.json()"
   ]
  },
  {
   "cell_type": "code",
   "execution_count": 26,
   "id": "66574646",
   "metadata": {},
   "outputs": [
    {
     "name": "stdout",
     "output_type": "stream",
     "text": [
      "etherscan_estimate: 3.5344921127325e-06, min_etherscan_estimate: 6.45821855155e-07, dynamic_gas_estimate: 7.46735284746e-07, max_gas_used_estimate: 3.3536750519925003e-06, min_gas_used_estimate: 4.6107568805749996e-07\n"
     ]
    }
   ],
   "source": [
    "print(F'etherscan_estimate: {etherscan_estimate}, min_etherscan_estimate: {min_etherscan_estimate}, dynamic_gas_estimate: {gas_estimate}, max_gas_used_estimate: {max_gas_used_estimate}, min_gas_used_estimate: {min_gas_used_estimate}')"
   ]
  },
  {
   "cell_type": "code",
   "execution_count": 27,
   "id": "a117fb47",
   "metadata": {},
   "outputs": [
    {
     "data": {
      "text/plain": [
       "7.46735284746e-07"
      ]
     },
     "execution_count": 27,
     "metadata": {},
     "output_type": "execute_result"
    }
   ],
   "source": [
    "estimate = min(etherscan_estimate,gas_estimate)\n",
    "estimate"
   ]
  },
  {
   "cell_type": "code",
   "execution_count": 28,
   "id": "f9e0abbc",
   "metadata": {},
   "outputs": [
    {
     "data": {
      "text/plain": [
       "'0x80226fc0Ee2b096224EeAc085Bb9a8cba1146f7D'"
      ]
     },
     "execution_count": 28,
     "metadata": {},
     "output_type": "execute_result"
    }
   ],
   "source": [
    "ROUTER_MAP['ethereum']"
   ]
  },
  {
   "cell_type": "code",
   "execution_count": 29,
   "id": "ab3647dc",
   "metadata": {},
   "outputs": [],
   "source": [
    "#Approves Router to Spend Our Token If Necessary\n",
    "\n",
    "# approve_token_if_needed(TOKEN_CONTRACTS[source_chain], \n",
    "#                             ROUTER_MAP[source_chain], \n",
    "#                             account_obj, \n",
    "#                             threshold=None)"
   ]
  },
  {
   "cell_type": "code",
   "execution_count": 30,
   "id": "0d6c09fd",
   "metadata": {},
   "outputs": [
    {
     "name": "stderr",
     "output_type": "stream",
     "text": [
      "2025-04-17 00:37:30,993 - INFO - CCIP messageId (pre-send): 67b82e4146ddbeb908809389d8d3bcd24e6e6687f18f6b69a671b4b5a30f1531\n"
     ]
    }
   ],
   "source": [
    "receipt, links, success, message_id = send_ccip_transfer(\n",
    "    to_address='0x38979DFdB5d8FD76FAD4E797c4660e20015C6a84',\n",
    "    dest_chain='arbitrum',\n",
    "    amount=5,\n",
    "    source_chain=source_chain,\n",
    "    account_obj=account_obj,\n",
    "    estimate=estimate\n",
    ")"
   ]
  },
  {
   "cell_type": "code",
   "execution_count": 31,
   "id": "94530ea5",
   "metadata": {},
   "outputs": [
    {
     "data": {
      "text/plain": [
       "True"
      ]
     },
     "execution_count": 31,
     "metadata": {},
     "output_type": "execute_result"
    }
   ],
   "source": [
    "success"
   ]
  },
  {
   "cell_type": "code",
   "execution_count": 32,
   "id": "9bfe012a",
   "metadata": {},
   "outputs": [
    {
     "data": {
      "text/plain": [
       "{'source_url': 'https://optimism.blockscout.com/tx/0xb74e840e04ace50ee8a3804e38abd9a42e03893555da9283d5b7f23f944a6f65',\n",
       " 'ccip_url': 'https://ccip.chain.link/#/side-drawer/msg/0x67b82e4146ddbeb908809389d8d3bcd24e6e6687f18f6b69a671b4b5a30f1531'}"
      ]
     },
     "execution_count": 32,
     "metadata": {},
     "output_type": "execute_result"
    }
   ],
   "source": [
    "links"
   ]
  },
  {
   "cell_type": "code",
   "execution_count": null,
   "id": "44fc37fa",
   "metadata": {},
   "outputs": [
    {
     "name": "stdout",
     "output_type": "stream",
     "text": [
      "003fb4702b81d9460b90fd7d986ba60b240fa8af0d1ebd672660291af318d567\n"
     ]
    }
   ],
   "source": [
    "# from web3 import Web3\n",
    "\n",
    "# # Correct tuple-based signature\n",
    "# sig = \"CCIPSendRequested((bytes32,uint64,address,address,address,bytes,bytes,bytes,uint256,uint256,address))\"\n",
    "\n",
    "# # Web3 will compute the topic0 correctly\n",
    "# topic0 = Web3.keccak(text=sig).hex()\n",
    "# print(topic0)\n"
   ]
  },
  {
   "cell_type": "code",
   "execution_count": null,
   "id": "907841ab",
   "metadata": {},
   "outputs": [],
   "source": []
  }
 ],
 "metadata": {
  "kernelspec": {
   "display_name": "ccip_terminal_env",
   "language": "python",
   "name": "ccip_terminal_env"
  },
  "language_info": {
   "codemirror_mode": {
    "name": "ipython",
    "version": 3
   },
   "file_extension": ".py",
   "mimetype": "text/x-python",
   "name": "python",
   "nbconvert_exporter": "python",
   "pygments_lexer": "ipython3",
   "version": "3.12.4"
  }
 },
 "nbformat": 4,
 "nbformat_minor": 5
}
