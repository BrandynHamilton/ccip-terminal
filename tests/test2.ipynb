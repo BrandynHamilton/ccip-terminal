{
 "cells": [
  {
   "cell_type": "code",
   "execution_count": 1,
   "id": "2da001da",
   "metadata": {},
   "outputs": [],
   "source": [
    "from ccip_terminal import estimate_gas_limit_from_recent_ccip, load_accounts, get_dynamic_gas_fees, ROUTER_MAP, send_ccip_transfer, estimate_dynamic_gas"
   ]
  },
  {
   "cell_type": "code",
   "execution_count": 2,
   "id": "2bc73338",
   "metadata": {},
   "outputs": [],
   "source": [
    "from dotenv import load_dotenv\n",
    "import os"
   ]
  },
  {
   "cell_type": "markdown",
   "id": "9071c939",
   "metadata": {},
   "source": [
    "# Gas Estimates"
   ]
  },
  {
   "cell_type": "code",
   "execution_count": 3,
   "id": "cc7b8459",
   "metadata": {},
   "outputs": [],
   "source": [
    "PRIVATE_KEY = os.getenv('PRIVATE_KEY')"
   ]
  },
  {
   "cell_type": "code",
   "execution_count": 4,
   "id": "33d86f9a",
   "metadata": {},
   "outputs": [],
   "source": [
    "account_obj = load_accounts('arbitrum')"
   ]
  },
  {
   "cell_type": "code",
   "execution_count": 5,
   "id": "ce3fcc39",
   "metadata": {},
   "outputs": [],
   "source": [
    "w3 = account_obj[0]['w3']"
   ]
  },
  {
   "cell_type": "code",
   "execution_count": 6,
   "id": "f57e3ff7",
   "metadata": {},
   "outputs": [],
   "source": [
    "account = w3.eth.account.from_key(PRIVATE_KEY)\n",
    "account_obj={\"account\": account, \"w3\": w3}"
   ]
  },
  {
   "cell_type": "code",
   "execution_count": 7,
   "id": "a1c6db11",
   "metadata": {},
   "outputs": [],
   "source": [
    "gas_limit_est = estimate_gas_limit_from_recent_ccip(w3)"
   ]
  },
  {
   "cell_type": "code",
   "execution_count": 8,
   "id": "5cb312f6",
   "metadata": {},
   "outputs": [
    {
     "data": {
      "text/plain": [
       "274569"
      ]
     },
     "execution_count": 8,
     "metadata": {},
     "output_type": "execute_result"
    }
   ],
   "source": [
    "gas_limit_est"
   ]
  },
  {
   "cell_type": "code",
   "execution_count": 9,
   "id": "dd69ae61",
   "metadata": {},
   "outputs": [],
   "source": [
    "fees = get_dynamic_gas_fees(w3)"
   ]
  },
  {
   "cell_type": "code",
   "execution_count": 10,
   "id": "83cd8d82",
   "metadata": {},
   "outputs": [],
   "source": [
    "max_fee_per_gas = fees[\"max_fee_per_gas\"]"
   ]
  },
  {
   "cell_type": "code",
   "execution_count": 11,
   "id": "2bdfd765",
   "metadata": {},
   "outputs": [
    {
     "data": {
      "text/plain": [
       "dict_keys(['base_fee', 'max_priority_fee', 'max_fee_per_gas', 'gas_price'])"
      ]
     },
     "execution_count": 11,
     "metadata": {},
     "output_type": "execute_result"
    }
   ],
   "source": [
    "fees.keys()"
   ]
  },
  {
   "cell_type": "code",
   "execution_count": 12,
   "id": "99593949",
   "metadata": {},
   "outputs": [
    {
     "data": {
      "text/plain": [
       "274569"
      ]
     },
     "execution_count": 12,
     "metadata": {},
     "output_type": "execute_result"
    }
   ],
   "source": [
    "gas_limit_est"
   ]
  },
  {
   "cell_type": "code",
   "execution_count": 13,
   "id": "3dacdf3d",
   "metadata": {},
   "outputs": [],
   "source": [
    "etherscan_estimate = ((gas_limit_est * max_fee_per_gas) / 1e18) * 1.25"
   ]
  },
  {
   "cell_type": "code",
   "execution_count": 14,
   "id": "3534e0e4",
   "metadata": {},
   "outputs": [],
   "source": [
    "gas_limit = estimate_dynamic_gas('arbitrum')\n",
    "gas_estimate = (gas_limit * max_fee_per_gas) / 1e18"
   ]
  },
  {
   "cell_type": "code",
   "execution_count": 15,
   "id": "2449ff2e",
   "metadata": {},
   "outputs": [
    {
     "data": {
      "text/plain": [
       "405999"
      ]
     },
     "execution_count": 15,
     "metadata": {},
     "output_type": "execute_result"
    }
   ],
   "source": [
    "gas_limit"
   ]
  },
  {
   "cell_type": "code",
   "execution_count": 16,
   "id": "a117fb47",
   "metadata": {},
   "outputs": [],
   "source": [
    "estimate = min(etherscan_estimate,gas_estimate)"
   ]
  },
  {
   "cell_type": "code",
   "execution_count": 17,
   "id": "f9e0abbc",
   "metadata": {},
   "outputs": [
    {
     "data": {
      "text/plain": [
       "'0x80226fc0Ee2b096224EeAc085Bb9a8cba1146f7D'"
      ]
     },
     "execution_count": 17,
     "metadata": {},
     "output_type": "execute_result"
    }
   ],
   "source": [
    "ROUTER_MAP['ethereum']"
   ]
  },
  {
   "cell_type": "code",
   "execution_count": 18,
   "id": "ab3647dc",
   "metadata": {},
   "outputs": [],
   "source": [
    "#Approves Router to Spend Our Token If Necessary\n",
    "\n",
    "# approve_token_if_needed(TOKEN_CONTRACTS[source_chain], \n",
    "#                             ROUTER_MAP[source_chain], \n",
    "#                             account_obj, \n",
    "#                             threshold=None)"
   ]
  },
  {
   "cell_type": "code",
   "execution_count": 19,
   "id": "0d6c09fd",
   "metadata": {},
   "outputs": [
    {
     "name": "stderr",
     "output_type": "stream",
     "text": [
      "2025-04-14 20:16:32,570 - INFO - CCIP messageId (pre-send): cf8cae4e57dc905844ae2ee0d349193536c620c12c79280a34be37ca75dfc902\n"
     ]
    }
   ],
   "source": [
    "receipt, links, success, message_id = send_ccip_transfer(\n",
    "    to_address='0x38979DFdB5d8FD76FAD4E797c4660e20015C6a84',\n",
    "    dest_chain='optimism',\n",
    "    amount=1,\n",
    "    source_chain='arbitrum',\n",
    "    account_obj=account_obj,\n",
    "    estimate=estimate\n",
    ")"
   ]
  },
  {
   "cell_type": "code",
   "execution_count": 20,
   "id": "94530ea5",
   "metadata": {},
   "outputs": [
    {
     "data": {
      "text/plain": [
       "True"
      ]
     },
     "execution_count": 20,
     "metadata": {},
     "output_type": "execute_result"
    }
   ],
   "source": [
    "success"
   ]
  },
  {
   "cell_type": "code",
   "execution_count": null,
   "id": "9bfe012a",
   "metadata": {},
   "outputs": [],
   "source": [
    "links"
   ]
  },
  {
   "cell_type": "code",
   "execution_count": null,
   "id": "44fc37fa",
   "metadata": {},
   "outputs": [
    {
     "name": "stdout",
     "output_type": "stream",
     "text": [
      "003fb4702b81d9460b90fd7d986ba60b240fa8af0d1ebd672660291af318d567\n"
     ]
    }
   ],
   "source": [
    "# from web3 import Web3\n",
    "\n",
    "# # Correct tuple-based signature\n",
    "# sig = \"CCIPSendRequested((bytes32,uint64,address,address,address,bytes,bytes,bytes,uint256,uint256,address))\"\n",
    "\n",
    "# # Web3 will compute the topic0 correctly\n",
    "# topic0 = Web3.keccak(text=sig).hex()\n",
    "# print(topic0)\n"
   ]
  },
  {
   "cell_type": "code",
   "execution_count": null,
   "id": "907841ab",
   "metadata": {},
   "outputs": [],
   "source": []
  }
 ],
 "metadata": {
  "kernelspec": {
   "display_name": "ccip_terminal_environment",
   "language": "python",
   "name": "ccip_terminal_environment"
  },
  "language_info": {
   "codemirror_mode": {
    "name": "ipython",
    "version": 3
   },
   "file_extension": ".py",
   "mimetype": "text/x-python",
   "name": "python",
   "nbconvert_exporter": "python",
   "pygments_lexer": "ipython3",
   "version": "3.11.9"
  }
 },
 "nbformat": 4,
 "nbformat_minor": 5
}
