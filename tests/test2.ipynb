{
 "cells": [
  {
   "cell_type": "code",
   "execution_count": 1,
   "id": "2da001da",
   "metadata": {},
   "outputs": [],
   "source": [
    "from ccip_terminal import estimate_gas_limit_from_recent_ccip, load_accounts"
   ]
  },
  {
   "cell_type": "markdown",
   "id": "9071c939",
   "metadata": {},
   "source": [
    "# Gas Estimates"
   ]
  },
  {
   "cell_type": "code",
   "execution_count": 2,
   "id": "33d86f9a",
   "metadata": {},
   "outputs": [],
   "source": [
    "account_obj = load_accounts()"
   ]
  },
  {
   "cell_type": "code",
   "execution_count": 3,
   "id": "ce3fcc39",
   "metadata": {},
   "outputs": [],
   "source": [
    "w3 = account_obj[0]['w3']"
   ]
  },
  {
   "cell_type": "code",
   "execution_count": 4,
   "id": "a1c6db11",
   "metadata": {},
   "outputs": [
    {
     "name": "stdout",
     "output_type": "stream",
     "text": [
      "startblock: 22194231\n",
      "params: {'chainid': 1, 'module': 'logs', 'action': 'getLogs', 'fromBlock': 0, 'toBlock': 'latest', 'topic0': '003fb4702b81d9460b90fd7d986ba60b240fa8af0d1ebd672660291af318d567', 'apikey': 'H8KEKDMWJN9TX6CAZHN6IUFUV6TP8Z13CD'}\n",
      "result: {'status': '0', 'message': 'NOTOK', 'result': 'Error! Invalid topic0 length'}\n",
      "logs: Error! Invalid topic0 length\n",
      "[Error] Failed to estimate gas: string indices must be integers, not 'str'\n"
     ]
    }
   ],
   "source": [
    "gas_estimate = estimate_gas_limit_from_recent_ccip(w3)"
   ]
  },
  {
   "cell_type": "code",
   "execution_count": 5,
   "id": "5cb312f6",
   "metadata": {},
   "outputs": [],
   "source": [
    "gas_estimate"
   ]
  },
  {
   "cell_type": "code",
   "execution_count": null,
   "id": "97177304",
   "metadata": {},
   "outputs": [],
   "source": []
  }
 ],
 "metadata": {
  "kernelspec": {
   "display_name": "ccip_terminal_env",
   "language": "python",
   "name": "ccip_terminal_env"
  },
  "language_info": {
   "codemirror_mode": {
    "name": "ipython",
    "version": 3
   },
   "file_extension": ".py",
   "mimetype": "text/x-python",
   "name": "python",
   "nbconvert_exporter": "python",
   "pygments_lexer": "ipython3",
   "version": "3.11.9"
  }
 },
 "nbformat": 4,
 "nbformat_minor": 5
}
