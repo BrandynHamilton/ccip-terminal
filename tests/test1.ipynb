{
 "cells": [
  {
   "cell_type": "markdown",
   "metadata": {},
   "source": [
    "# Imports and Environment Variables"
   ]
  },
  {
   "cell_type": "code",
   "execution_count": 19,
   "metadata": {},
   "outputs": [
    {
     "ename": "ImportError",
     "evalue": "cannot import name 'get_largest_balance' from 'ccip_terminal' (E:\\Projects\\ccip_terminal_copy\\ccip_terminal\\__init__.py)",
     "output_type": "error",
     "traceback": [
      "\u001b[31m---------------------------------------------------------------------------\u001b[39m",
      "\u001b[31mImportError\u001b[39m                               Traceback (most recent call last)",
      "\u001b[36mCell\u001b[39m\u001b[36m \u001b[39m\u001b[32mIn[19]\u001b[39m\u001b[32m, line 1\u001b[39m\n\u001b[32m----> \u001b[39m\u001b[32m1\u001b[39m \u001b[38;5;28;01mfrom\u001b[39;00m\u001b[38;5;250m \u001b[39m\u001b[34;01mccip_terminal\u001b[39;00m\u001b[38;5;250m \u001b[39m\u001b[38;5;28;01mimport\u001b[39;00m (network_func, get_ccip_fee_estimate, approve_token_if_needed,\n\u001b[32m      2\u001b[39m                            send_ccip_transfer, check_ccip_message_status, get_usdc_data,\n\u001b[32m      3\u001b[39m                            ROUTER_MAP,get_largest_balance)\n\u001b[32m      4\u001b[39m \u001b[38;5;28;01mimport\u001b[39;00m\u001b[38;5;250m \u001b[39m\u001b[34;01mjson\u001b[39;00m\n\u001b[32m      5\u001b[39m \u001b[38;5;28;01mfrom\u001b[39;00m\u001b[38;5;250m \u001b[39m\u001b[34;01mweb3\u001b[39;00m\u001b[38;5;250m \u001b[39m\u001b[38;5;28;01mimport\u001b[39;00m Web3\n",
      "\u001b[31mImportError\u001b[39m: cannot import name 'get_largest_balance' from 'ccip_terminal' (E:\\Projects\\ccip_terminal_copy\\ccip_terminal\\__init__.py)"
     ]
    }
   ],
   "source": [
    "from ccip_terminal import (network_func, get_ccip_fee_estimate, approve_token_if_needed,\n",
    "                           send_ccip_transfer, check_ccip_message_status, get_usdc_data,\n",
    "                           ROUTER_MAP,get_largest_balance)\n",
    "import json\n",
    "from web3 import Web3\n",
    "import os\n",
    "from dotenv import load_dotenv"
   ]
  },
  {
   "cell_type": "code",
   "execution_count": null,
   "metadata": {},
   "outputs": [
    {
     "data": {
      "text/plain": [
       "True"
      ]
     },
     "execution_count": 2,
     "metadata": {},
     "output_type": "execute_result"
    },
    {
     "ename": "",
     "evalue": "",
     "output_type": "error",
     "traceback": [
      "\u001b[1;31mnotebook controller is DISPOSED. \n",
      "\u001b[1;31mView Jupyter <a href='command:jupyter.viewOutput'>log</a> for further details."
     ]
    }
   ],
   "source": [
    "load_dotenv()"
   ]
  },
  {
   "cell_type": "code",
   "execution_count": null,
   "metadata": {},
   "outputs": [
    {
     "ename": "",
     "evalue": "",
     "output_type": "error",
     "traceback": [
      "\u001b[1;31mnotebook controller is DISPOSED. \n",
      "\u001b[1;31mView Jupyter <a href='command:jupyter.viewOutput'>log</a> for further details."
     ]
    }
   ],
   "source": [
    "PRIVATE_KEY = os.getenv('PRIVATE_KEY')"
   ]
  },
  {
   "cell_type": "code",
   "execution_count": null,
   "metadata": {},
   "outputs": [
    {
     "ename": "",
     "evalue": "",
     "output_type": "error",
     "traceback": [
      "\u001b[1;31mnotebook controller is DISPOSED. \n",
      "\u001b[1;31mView Jupyter <a href='command:jupyter.viewOutput'>log</a> for further details."
     ]
    }
   ],
   "source": [
    "network = 'arbitrum' # Can set to variety of networks\n",
    "\n",
    "w3 = network_func(network)\n",
    "account = w3.eth.account.from_key(PRIVATE_KEY)\n",
    "account_obj={\"account\": account, \"w3\": w3}"
   ]
  },
  {
   "cell_type": "markdown",
   "metadata": {},
   "source": [
    "# Sending a CCIP Transfer"
   ]
  },
  {
   "cell_type": "code",
   "execution_count": null,
   "metadata": {},
   "outputs": [
    {
     "name": "stdout",
     "output_type": "stream",
     "text": [
      "{\n",
      "  \"0x38979DFdB5d8FD76FAD4E797c4660e20015C6a84\": {\n",
      "    \"ethereum\": {\n",
      "      \"usdc\": 0.00979,\n",
      "      \"native_token\": 4.132747937321e-06\n",
      "    },\n",
      "    \"optimism\": {\n",
      "      \"usdc\": 1.0,\n",
      "      \"native_token\": 0.001397223622087085\n",
      "    },\n",
      "    \"avalanche\": {\n",
      "      \"usdc\": 1.0,\n",
      "      \"native_token\": 0.0\n",
      "    },\n",
      "    \"arbitrum\": {\n",
      "      \"usdc\": 0.454262,\n",
      "      \"native_token\": 0.002657681112361215\n",
      "    },\n",
      "    \"polygon\": {\n",
      "      \"usdc\": 1.0,\n",
      "      \"native_token\": 0.0\n",
      "    },\n",
      "    \"base\": {\n",
      "      \"usdc\": 5.0,\n",
      "      \"native_token\": 0.0\n",
      "    }\n",
      "  }\n",
      "}\n"
     ]
    },
    {
     "ename": "",
     "evalue": "",
     "output_type": "error",
     "traceback": [
      "\u001b[1;31mnotebook controller is DISPOSED. \n",
      "\u001b[1;31mView Jupyter <a href='command:jupyter.viewOutput'>log</a> for further details."
     ]
    }
   ],
   "source": [
    "BALANCES_DICT, TOKEN_CONTRACTS, TOKEN_DECIMALS, _, usdc_price = get_usdc_data(account_obj=account_obj)\n",
    "# USDC Balance for Account Across Supported Networks\n",
    "\n",
    "print(json.dumps(BALANCES_DICT, indent=2))"
   ]
  },
  {
   "cell_type": "code",
   "execution_count": null,
   "metadata": {},
   "outputs": [],
   "source": [
    "largest_balance_dict = get_largest_balance(BALANCES_DICT, account_obj=account_obj,min_gas_threshold=0.003)"
   ]
  },
  {
   "cell_type": "code",
   "execution_count": 6,
   "metadata": {},
   "outputs": [],
   "source": [
    "to_address = '0x2083b0413869f7b5b9e0eA27d20CB6dD3535f525'\n",
    "dest_chain='base'\n",
    "amount=0.4\n",
    "source_chain=network"
   ]
  },
  {
   "cell_type": "code",
   "execution_count": 7,
   "metadata": {},
   "outputs": [
    {
     "data": {
      "text/plain": [
       "{'ethereum': '0xA0b86991c6218b36c1d19D4a2e9Eb0cE3606eB48',\n",
       " 'optimism': '0x0b2C639c533813f4Aa9D7837CAf62653d097Ff85',\n",
       " 'avalanche': '0xB97EF9Ef8734C71904D8002F8b6Bc66Dd9c48a6E',\n",
       " 'arbitrum': '0xaf88d065e77c8cC2239327C5EDb3A432268e5831',\n",
       " 'polygon': '0x3c499c542cEF5E3811e1192ce70d8cC03d5c3359',\n",
       " 'base': '0x833589fCD6eDb6E08f4c7C32D4f71b54bdA02913'}"
      ]
     },
     "execution_count": 7,
     "metadata": {},
     "output_type": "execute_result"
    }
   ],
   "source": [
    "TOKEN_CONTRACTS"
   ]
  },
  {
   "cell_type": "code",
   "execution_count": 10,
   "metadata": {},
   "outputs": [
    {
     "name": "stdout",
     "output_type": "stream",
     "text": [
      "Token balance is sufficient for send amount\n"
     ]
    }
   ],
   "source": [
    "source_chain_state = BALANCES_DICT[account.address][source_chain]\n",
    "source_chain_state['usdc']\n",
    "usdc_balance = source_chain_state['usdc']\n",
    "sufficient_token = amount <= usdc_balance\n",
    "\n",
    "if not sufficient_token:\n",
    "    print(f'Token balance below desired send amount - Account: {usdc_balance}, Desired amount: {amount}')\n",
    "else:\n",
    "    print(f'Token balance is sufficient for send amount')"
   ]
  },
  {
   "cell_type": "code",
   "execution_count": 11,
   "metadata": {},
   "outputs": [
    {
     "name": "stdout",
     "output_type": "stream",
     "text": [
      "Getting token data\n",
      "native gas balance: 0.002657681112361215\n",
      "gas estimate: 0.002210126506080179\n",
      "Enough gas for transfer?: yes\n"
     ]
    }
   ],
   "source": [
    "# We need to use custom fee estimation function for CCIP\n",
    "\n",
    "estimate = get_ccip_fee_estimate(\n",
    "    to_address=to_address,\n",
    "    dest_chain=dest_chain,\n",
    "    amount=amount,\n",
    "    source_chain=source_chain,\n",
    "    account_obj=account_obj\n",
    ")\n",
    "native_balance = w3.eth.get_balance(account.address)\n",
    "total_estimate = estimate[\"total_estimate\"]\n",
    "\n",
    "print(f'native gas balance: {native_balance / 1e18}')\n",
    "print(f'gas estimate: {total_estimate / 1e18}')\n",
    "\n",
    "can_transfer = native_balance > total_estimate\n",
    "\n",
    "print(f'Enough gas for transfer?: {\"yes\" if can_transfer else \"no\"}')"
   ]
  },
  {
   "cell_type": "code",
   "execution_count": 12,
   "metadata": {},
   "outputs": [
    {
     "data": {
      "text/plain": [
       "{'total_estimate': 2210126506080179,\n",
       " 'native_gas_fee': 2034054990000000,\n",
       " 'ccip_fee': 176071516080179,\n",
       " 'gas_limit': 405999,\n",
       " 'max_fee_per_gas': 5010000000,\n",
       " 'priority_fee': 5000000000,\n",
       " 'base_gas_price': 10000000,\n",
       " 'currency': 42161}"
      ]
     },
     "execution_count": 12,
     "metadata": {},
     "output_type": "execute_result"
    }
   ],
   "source": [
    "# Note fee is overestimated as we cannot directly estimate gas. For L2 transfers, fee typically ~0.00018 or $0.24\n",
    "\n",
    "estimate # Denominated in wei"
   ]
  },
  {
   "cell_type": "code",
   "execution_count": 13,
   "metadata": {},
   "outputs": [
    {
     "data": {
      "text/plain": [
       "True"
      ]
     },
     "execution_count": 13,
     "metadata": {},
     "output_type": "execute_result"
    }
   ],
   "source": [
    "#Approves Router to Spend Our Token If Necessary\n",
    "\n",
    "approve_token_if_needed(TOKEN_CONTRACTS[source_chain], \n",
    "                            ROUTER_MAP[source_chain], \n",
    "                            account_obj, \n",
    "                            threshold=None)"
   ]
  },
  {
   "cell_type": "code",
   "execution_count": 14,
   "metadata": {},
   "outputs": [
    {
     "name": "stderr",
     "output_type": "stream",
     "text": [
      "2025-04-09 17:53:47,942 - INFO - CCIP messageId (pre-send): 6c9ef508f8e06185652d2146e2478fe03b2b000205e79c5e5ba7b60a4fad771d\n"
     ]
    },
    {
     "name": "stdout",
     "output_type": "stream",
     "text": [
      "account.address: 0x38979DFdB5d8FD76FAD4E797c4660e20015C6a84\n"
     ]
    }
   ],
   "source": [
    "receipt = None\n",
    "\n",
    "if can_transfer and sufficient_token:\n",
    "    receipt, links, success, message_id = send_ccip_transfer(\n",
    "        to_address=to_address,\n",
    "        dest_chain=dest_chain,\n",
    "        amount=amount,\n",
    "        source_chain=source_chain,\n",
    "        account_obj=account_obj,\n",
    "        estimate=estimate[\"total_estimate\"]\n",
    "    )\n",
    "else:\n",
    "    missing_gas = estimate[\"total_estimate\"] - native_balance\n",
    "    missing_token = amount - usdc_balance \n",
    "    print(f'Need to top up on gas; need {missing_gas / 1e18} more native token')\n",
    "    print(f'May need more USDC in account or need to lower desired send amount: {missing_token}')\n"
   ]
  },
  {
   "cell_type": "code",
   "execution_count": 18,
   "metadata": {},
   "outputs": [
    {
     "name": "stdout",
     "output_type": "stream",
     "text": [
      "Tx Links:{'source_url': 'https://arbitrum.blockscout.com/tx/0xe33a475176163b74c733b8e3ec5cf902527a5a66661a98240d545a64ecbc6bde', 'ccip_url': 'https://ccip.chain.link/#/side-drawer/msg/0x6c9ef508f8e06185652d2146e2478fe03b2b000205e79c5e5ba7b60a4fad771d'}\n",
      "CCIP MessageID: 6c9ef508f8e06185652d2146e2478fe03b2b000205e79c5e5ba7b60a4fad771d\n",
      "Attempt 1/15 – retrying in 120s...\n",
      "Attempt 2/15 – retrying in 120s...\n",
      "Attempt 3/15 – retrying in 120s...\n",
      "Attempt 4/15 – retrying in 120s...\n",
      "Attempt 5/15 – retrying in 120s...\n",
      "Attempt 6/15 – retrying in 120s...\n",
      "Attempt 7/15 – retrying in 120s...\n",
      "Attempt 8/15 – retrying in 120s...\n",
      "Attempt 9/15 – retrying in 120s...\n",
      "Attempt 10/15 – retrying in 120s...\n",
      "Attempt 11/15 – retrying in 120s...\n",
      "Attempt 12/15 – retrying in 120s...\n",
      "Found status for message 6c9ef508f8e06185652d2146e2478fe03b2b000205e79c5e5ba7b60a4fad771d on 0x7d38c6363d5e4dfd500a691bc34878b383f58d93: SUCCESS\n"
     ]
    }
   ],
   "source": [
    "if receipt and receipt.status == 1:\n",
    "    print(f'Tx Links:{links}')\n",
    "    print(f'CCIP MessageID: {message_id}')\n",
    "    # Here we query Etherscan for transfer status, can take up to 25 minutes.\n",
    "    # Wait flag periodically calls the API for status\n",
    "    check_ccip_message_status(message_id, dest_chain, wait=True)\n",
    "else:\n",
    "    print(F'No Tx Detected or Tx Failed')"
   ]
  },
  {
   "cell_type": "code",
   "execution_count": null,
   "metadata": {},
   "outputs": [],
   "source": []
  }
 ],
 "metadata": {
  "kernelspec": {
   "display_name": "ccip_terminal_env",
   "language": "python",
   "name": "ccip_terminal_env"
  },
  "language_info": {
   "codemirror_mode": {
    "name": "ipython",
    "version": 3
   },
   "file_extension": ".py",
   "mimetype": "text/x-python",
   "name": "python",
   "nbconvert_exporter": "python",
   "pygments_lexer": "ipython3",
   "version": "3.11.9"
  }
 },
 "nbformat": 4,
 "nbformat_minor": 2
}
