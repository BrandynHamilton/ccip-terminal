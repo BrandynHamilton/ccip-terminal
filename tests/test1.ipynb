{
 "cells": [
  {
   "cell_type": "markdown",
   "metadata": {},
   "source": [
    "# Imports and Environment Variables"
   ]
  },
  {
   "cell_type": "code",
   "execution_count": 1,
   "metadata": {},
   "outputs": [],
   "source": [
    "network = 'arbitrum' # Can set to variety of networks"
   ]
  },
  {
   "cell_type": "code",
   "execution_count": 2,
   "metadata": {},
   "outputs": [],
   "source": [
    "from ccip_terminal import (network_func, get_ccip_fee_estimate, send_ccip_transfer, check_ccip_message_status, get_usdc_data)\n",
    "from web3 import Web3\n",
    "import os\n",
    "from dotenv import load_dotenv"
   ]
  },
  {
   "cell_type": "code",
   "execution_count": 3,
   "metadata": {},
   "outputs": [
    {
     "data": {
      "text/plain": [
       "True"
      ]
     },
     "execution_count": 3,
     "metadata": {},
     "output_type": "execute_result"
    }
   ],
   "source": [
    "load_dotenv()"
   ]
  },
  {
   "cell_type": "code",
   "execution_count": 4,
   "metadata": {},
   "outputs": [],
   "source": [
    "PRIVATE_KEY = os.getenv('PRIVATE_KEY')"
   ]
  },
  {
   "cell_type": "code",
   "execution_count": 5,
   "metadata": {},
   "outputs": [],
   "source": [
    "w3 = network_func(network)\n",
    "account = w3.eth.account.from_key(PRIVATE_KEY)\n",
    "account_obj={\"account\": account, \"w3\": w3}"
   ]
  },
  {
   "cell_type": "markdown",
   "metadata": {},
   "source": [
    "# Sending a CCIP Transfer"
   ]
  },
  {
   "cell_type": "code",
   "execution_count": 6,
   "metadata": {},
   "outputs": [],
   "source": [
    "to_address = '0x2083b0413869f7b5b9e0eA27d20CB6dD3535f525'\n",
    "dest_chain='base'\n",
    "amount=1\n",
    "source_chain=network"
   ]
  },
  {
   "cell_type": "code",
   "execution_count": null,
   "metadata": {},
   "outputs": [
    {
     "name": "stdout",
     "output_type": "stream",
     "text": [
      "❌ Failed to connect to avalanche via https://avax-mainnet.g.alchemy.com/v2/6AUlaGmWe505S7gRPZXVh4YEFgJdYHy5. Trying next...\n",
      "❌ Failed to connect to avalanche via https://avax-mainnet.g.alchemy.com/v2/6AUlaGmWe505S7gRPZXVh4YEFgJdYHy5. Trying next...\n"
     ]
    }
   ],
   "source": [
    "BALANCES_DICT, TOKEN_CONTRACTS, TOKEN_DECIMALS, _, usdc_price = get_usdc_data(account_obj=account_obj)"
   ]
  },
  {
   "cell_type": "code",
   "execution_count": 12,
   "metadata": {},
   "outputs": [
    {
     "name": "stdout",
     "output_type": "stream",
     "text": [
      "{\n",
      "  \"0x38979DFdB5d8FD76FAD4E797c4660e20015C6a84\": {\n",
      "    \"ethereum\": {\n",
      "      \"usdc\": 0.0,\n",
      "      \"native_token\": 0.0\n",
      "    },\n",
      "    \"optimism\": {\n",
      "      \"usdc\": 22.0,\n",
      "      \"native_token\": 0.001797209599623622\n",
      "    },\n",
      "    \"avalanche\": {\n",
      "      \"usdc\": 1.0,\n",
      "      \"native_token\": 0.0\n",
      "    },\n",
      "    \"arbitrum\": {\n",
      "      \"usdc\": 1.464262,\n",
      "      \"native_token\": 0.010627123766159824\n",
      "    },\n",
      "    \"polygon\": {\n",
      "      \"usdc\": 1.0,\n",
      "      \"native_token\": 0.0\n",
      "    },\n",
      "    \"base\": {\n",
      "      \"usdc\": 5.0,\n",
      "      \"native_token\": 0.0\n",
      "    }\n",
      "  }\n",
      "}\n"
     ]
    }
   ],
   "source": [
    "# USDC Balance for Account Across Supported Networks\n",
    "import json\n",
    "\n",
    "print(json.dumps(BALANCES_DICT, indent=2))"
   ]
  },
  {
   "cell_type": "code",
   "execution_count": 9,
   "metadata": {},
   "outputs": [
    {
     "data": {
      "text/plain": [
       "{'ethereum': '0xA0b86991c6218b36c1d19D4a2e9Eb0cE3606eB48',\n",
       " 'optimism': '0x0b2C639c533813f4Aa9D7837CAf62653d097Ff85',\n",
       " 'avalanche': '0xB97EF9Ef8734C71904D8002F8b6Bc66Dd9c48a6E',\n",
       " 'arbitrum': '0xaf88d065e77c8cC2239327C5EDb3A432268e5831',\n",
       " 'polygon': '0x3c499c542cEF5E3811e1192ce70d8cC03d5c3359',\n",
       " 'base': '0x833589fCD6eDb6E08f4c7C32D4f71b54bdA02913'}"
      ]
     },
     "execution_count": 9,
     "metadata": {},
     "output_type": "execute_result"
    }
   ],
   "source": [
    "TOKEN_CONTRACTS"
   ]
  },
  {
   "cell_type": "code",
   "execution_count": 11,
   "metadata": {},
   "outputs": [
    {
     "data": {
      "text/plain": [
       "0.999884"
      ]
     },
     "execution_count": 11,
     "metadata": {},
     "output_type": "execute_result"
    }
   ],
   "source": [
    "usdc_price"
   ]
  },
  {
   "cell_type": "code",
   "execution_count": 20,
   "metadata": {},
   "outputs": [
    {
     "name": "stdout",
     "output_type": "stream",
     "text": [
      "Token balance is sufficient for send amount\n"
     ]
    }
   ],
   "source": [
    "source_chain_state = BALANCES_DICT[account.address][source_chain]\n",
    "usdc_balance = source_chain_state['usdc']\n",
    "sufficient_token = amount < usdc_balance\n",
    "\n",
    "if not sufficient_token:\n",
    "    print(f'Token balance below desired send amount - Account: {usdc_balance}, Desired amount: {amount}')\n",
    "else:\n",
    "    print(f'Token balance is sufficient for send amount')"
   ]
  },
  {
   "cell_type": "code",
   "execution_count": null,
   "metadata": {},
   "outputs": [
    {
     "name": "stdout",
     "output_type": "stream",
     "text": [
      "native gas balance: 0.010627123766159824\n",
      "gas estimate: 0.001981512707782155\n",
      "Enough gas to swap?: yes\n"
     ]
    }
   ],
   "source": [
    "# We need to use custom fee estimation function for CCIP\n",
    "\n",
    "estimate = get_ccip_fee_estimate(\n",
    "    to_address=to_address,\n",
    "    dest_chain=dest_chain,\n",
    "    amount=amount,\n",
    "    source_chain=source_chain,\n",
    "    w3=w3,\n",
    "    account=account\n",
    ")\n",
    "native_balance = w3.eth.get_balance(account.address)\n",
    "total_estimate = estimate[\"total_estimate\"]\n",
    "\n",
    "print(f'native gas balance: {native_balance / 1e18}')\n",
    "print(f'gas estimate: {total_estimate / 1e18}')\n",
    "\n",
    "can_transfer = native_balance > total_estimate\n",
    "\n",
    "print(f'Enough gas for transfer?: {\"yes\" if can_transfer else \"no\"}')"
   ]
  },
  {
   "cell_type": "code",
   "execution_count": null,
   "metadata": {},
   "outputs": [
    {
     "data": {
      "text/plain": [
       "{'total_estimate': 1981512707782155,\n",
       " 'native_gas_fee': 1803600000000000,\n",
       " 'ccip_fee': 177912707782155,\n",
       " 'gas_limit': 360000,\n",
       " 'max_fee_per_gas': 5010000000,\n",
       " 'priority_fee': 5000000000,\n",
       " 'base_gas_price': 10000000,\n",
       " 'currency': 42161}"
      ]
     },
     "execution_count": 18,
     "metadata": {},
     "output_type": "execute_result"
    }
   ],
   "source": [
    "# Note fee is overestimated as we cannot directly estimate gas. For L2 transfers, fee typically ~0.00018 or $0.24\n",
    "\n",
    "estimate # Denominated in wei"
   ]
  },
  {
   "cell_type": "code",
   "execution_count": null,
   "metadata": {},
   "outputs": [
    {
     "name": "stderr",
     "output_type": "stream",
     "text": [
      "2025-04-08 18:38:22,687 - INFO - CCIP messageId (pre-send): 46e0dd8ccd971a48ccf2ea84cf297f779b646c7233cc57b661a2009633aa02ac\n"
     ]
    }
   ],
   "source": [
    "if can_transfer and sufficient_token:\n",
    "    receipt, links, success, message_id = send_ccip_transfer(\n",
    "        to_address=to_address,\n",
    "        dest_chain=dest_chain,\n",
    "        amount=amount,\n",
    "        source_chain=source_chain,\n",
    "        account_obj=account_obj,\n",
    "        estimate=estimate[\"total_estimate\"]\n",
    "    )\n",
    "else:\n",
    "    missing_gas = estimate[\"total_estimate\"] - native_balance\n",
    "    missing_token = amount - usdc_balance \n",
    "    print(f'Need to top up on gas; need {missing_gas / 1e18} more native token')\n",
    "    print(f'May need more USDC in account or need to lower desired send amount: {missing_token}')\n"
   ]
  },
  {
   "cell_type": "code",
   "execution_count": 23,
   "metadata": {},
   "outputs": [
    {
     "data": {
      "text/plain": [
       "{'source_url': 'https://arbitrum.blockscout.com/tx/0x4ae4aa59f7ea7b1206abea437c155f1f3d1e8ab9e9f6fb6a1541c8320239585d',\n",
       " 'ccip_url': 'https://ccip.chain.link/#/side-drawer/msg/0x46e0dd8ccd971a48ccf2ea84cf297f779b646c7233cc57b661a2009633aa02ac'}"
      ]
     },
     "execution_count": 23,
     "metadata": {},
     "output_type": "execute_result"
    }
   ],
   "source": [
    "links"
   ]
  },
  {
   "cell_type": "code",
   "execution_count": 24,
   "metadata": {},
   "outputs": [
    {
     "data": {
      "text/plain": [
       "'46e0dd8ccd971a48ccf2ea84cf297f779b646c7233cc57b661a2009633aa02ac'"
      ]
     },
     "execution_count": 24,
     "metadata": {},
     "output_type": "execute_result"
    }
   ],
   "source": [
    "message_id"
   ]
  },
  {
   "cell_type": "code",
   "execution_count": 26,
   "metadata": {},
   "outputs": [
    {
     "name": "stdout",
     "output_type": "stream",
     "text": [
      "Attempt 1/15 – retrying in 120s...\n",
      "Attempt 2/15 – retrying in 120s...\n",
      "Attempt 3/15 – retrying in 120s...\n",
      "Attempt 4/15 – retrying in 120s...\n",
      "Attempt 5/15 – retrying in 120s...\n",
      "Attempt 6/15 – retrying in 120s...\n",
      "Attempt 7/15 – retrying in 120s...\n",
      "Attempt 8/15 – retrying in 120s...\n",
      "Attempt 9/15 – retrying in 120s...\n",
      "Attempt 10/15 – retrying in 120s...\n",
      "Attempt 11/15 – retrying in 120s...\n",
      "Attempt 12/15 – retrying in 120s...\n",
      "Found status for message 46e0dd8ccd971a48ccf2ea84cf297f779b646c7233cc57b661a2009633aa02ac on 0x7d38c6363d5e4dfd500a691bc34878b383f58d93: SUCCESS\n"
     ]
    },
    {
     "data": {
      "text/plain": [
       "('SUCCESS', '0x7d38c6363d5e4dfd500a691bc34878b383f58d93')"
      ]
     },
     "execution_count": 26,
     "metadata": {},
     "output_type": "execute_result"
    }
   ],
   "source": [
    "# Here we query Etherscan for transfer status, can take up to 25 minutes.\n",
    "# Wait flag periodically calls the API for status\n",
    "\n",
    "check_ccip_message_status(message_id, dest_chain, wait=True)"
   ]
  },
  {
   "cell_type": "code",
   "execution_count": null,
   "metadata": {},
   "outputs": [],
   "source": []
  }
 ],
 "metadata": {
  "kernelspec": {
   "display_name": "ccip_terminal_env",
   "language": "python",
   "name": "ccip_terminal_env"
  },
  "language_info": {
   "codemirror_mode": {
    "name": "ipython",
    "version": 3
   },
   "file_extension": ".py",
   "mimetype": "text/x-python",
   "name": "python",
   "nbconvert_exporter": "python",
   "pygments_lexer": "ipython3",
   "version": "3.11.9"
  }
 },
 "nbformat": 4,
 "nbformat_minor": 2
}
