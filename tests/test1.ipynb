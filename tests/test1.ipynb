{
 "cells": [
  {
   "cell_type": "code",
   "execution_count": null,
   "metadata": {},
   "outputs": [
    {
     "name": "stdout",
     "output_type": "stream",
     "text": [
      "🔄 stdout reconfigure skipped (Jupyter environment)\n"
     ]
    }
   ],
   "source": [
    "from usdc_terminal import (load_accounts, token_data, extract_token_contracts, extract_token_decimals,convert_to_usd,\n",
    "                           get_balance,resolve_chain_name,get_token_decimals,CHAIN_MAP,network_func,get_all_balances,\n",
    "                           send_ccip_transfer,to_checksum_dict,check_ccip_message_status,resolve_router_address,load_abi,\n",
    "                           resolve_chain_selector,get_usdc_data)"
   ]
  },
  {
   "cell_type": "code",
   "execution_count": 2,
   "metadata": {},
   "outputs": [],
   "source": [
    "from eth_utils import keccak"
   ]
  },
  {
   "cell_type": "code",
   "execution_count": 3,
   "metadata": {},
   "outputs": [
    {
     "name": "stdout",
     "output_type": "stream",
     "text": [
      "✅ Connected to arbitrum via https://arb-mainnet.g.alchemy.com/v2/6AUlaGmWe505S7gRPZXVh4YEFgJdYHy5: Block 323033675\n",
      "account 1: 0x38979DFdB5d8FD76FAD4E797c4660e20015C6a84\n",
      "✅ Connected to arbitrum via https://arb-mainnet.g.alchemy.com/v2/6AUlaGmWe505S7gRPZXVh4YEFgJdYHy5: Block 323033676\n",
      "account 2: 0x58a4Cae5e8dDA3a5614972F34951e482a29ef0f0\n"
     ]
    }
   ],
   "source": [
    "w3_accounts = load_accounts('arbitrum')"
   ]
  },
  {
   "cell_type": "code",
   "execution_count": 4,
   "metadata": {},
   "outputs": [
    {
     "data": {
      "text/plain": [
       "[{'w3': <web3.main.Web3 at 0x1c4603ba990>,\n",
       "  'account': <eth_account.signers.local.LocalAccount at 0x1c460685c50>},\n",
       " {'w3': <web3.main.Web3 at 0x1c460cc1d50>,\n",
       "  'account': <eth_account.signers.local.LocalAccount at 0x1c460ceb0d0>}]"
      ]
     },
     "execution_count": 4,
     "metadata": {},
     "output_type": "execute_result"
    }
   ],
   "source": [
    "w3_accounts"
   ]
  },
  {
   "cell_type": "code",
   "execution_count": 5,
   "metadata": {},
   "outputs": [
    {
     "name": "stdout",
     "output_type": "stream",
     "text": [
      "✅ Connected to ethereum via https://eth-mainnet.g.alchemy.com/v2/6AUlaGmWe505S7gRPZXVh4YEFgJdYHy5: Block 22199649\n",
      "account 1: 0x38979DFdB5d8FD76FAD4E797c4660e20015C6a84\n",
      "✅ Connected to ethereum via https://eth-mainnet.g.alchemy.com/v2/6AUlaGmWe505S7gRPZXVh4YEFgJdYHy5: Block 22199649\n",
      "account 2: 0x58a4Cae5e8dDA3a5614972F34951e482a29ef0f0\n",
      "✅ Connected to ethereum via https://eth-mainnet.g.alchemy.com/v2/6AUlaGmWe505S7gRPZXVh4YEFgJdYHy5: Block 22199649\n",
      "Balances for account 0x38979DFdB5d8FD76FAD4E797c4660e20015C6a84: {'ethereum': 0.0}\n",
      "✅ Connected to optimism via https://opt-mainnet.g.alchemy.com/v2/6AUlaGmWe505S7gRPZXVh4YEFgJdYHy5: Block 134110159\n",
      "Balances for account 0x38979DFdB5d8FD76FAD4E797c4660e20015C6a84: {'optimism': 19.0}\n",
      "❌ Failed to connect to avalanche via https://avax-mainnet.g.alchemy.com/v2/6AUlaGmWe505S7gRPZXVh4YEFgJdYHy5. Trying next...\n",
      "✅ Connected to avalanche via https://avalanche-mainnet.infura.io/v3/d8cb9659ebdf487dbbc133d87d7c404c: Block 59731027\n",
      "Balances for account 0x38979DFdB5d8FD76FAD4E797c4660e20015C6a84: {'avalanche': 0.0}\n",
      "✅ Connected to arbitrum via https://arb-mainnet.g.alchemy.com/v2/6AUlaGmWe505S7gRPZXVh4YEFgJdYHy5: Block 323033694\n",
      "Balances for account 0x38979DFdB5d8FD76FAD4E797c4660e20015C6a84: {'arbitrum': 1.554761}\n",
      "✅ Connected to polygon via https://polygon-mainnet.g.alchemy.com/v2/6AUlaGmWe505S7gRPZXVh4YEFgJdYHy5: Block 69909302\n",
      "Balances for account 0x38979DFdB5d8FD76FAD4E797c4660e20015C6a84: {'polygon': 0.0}\n",
      "✅ Connected to base via https://base-mainnet.g.alchemy.com/v2/6AUlaGmWe505S7gRPZXVh4YEFgJdYHy5: Block 28514876\n",
      "Balances for account 0x38979DFdB5d8FD76FAD4E797c4660e20015C6a84: {'base': 0.0}\n",
      "✅ Connected to ethereum via https://eth-mainnet.g.alchemy.com/v2/6AUlaGmWe505S7gRPZXVh4YEFgJdYHy5: Block 22199650\n",
      "Balances for account 0x58a4Cae5e8dDA3a5614972F34951e482a29ef0f0: {'ethereum': 0.0}\n",
      "✅ Connected to optimism via https://opt-mainnet.g.alchemy.com/v2/6AUlaGmWe505S7gRPZXVh4YEFgJdYHy5: Block 134110162\n",
      "Balances for account 0x58a4Cae5e8dDA3a5614972F34951e482a29ef0f0: {'optimism': 0.0}\n",
      "❌ Failed to connect to avalanche via https://avax-mainnet.g.alchemy.com/v2/6AUlaGmWe505S7gRPZXVh4YEFgJdYHy5. Trying next...\n",
      "✅ Connected to avalanche via https://avalanche-mainnet.infura.io/v3/d8cb9659ebdf487dbbc133d87d7c404c: Block 59731031\n",
      "Balances for account 0x58a4Cae5e8dDA3a5614972F34951e482a29ef0f0: {'avalanche': 0.0}\n",
      "✅ Connected to arbitrum via https://arb-mainnet.g.alchemy.com/v2/6AUlaGmWe505S7gRPZXVh4YEFgJdYHy5: Block 323033717\n",
      "Balances for account 0x58a4Cae5e8dDA3a5614972F34951e482a29ef0f0: {'arbitrum': 2.0}\n",
      "✅ Connected to polygon via https://polygon-mainnet.g.alchemy.com/v2/6AUlaGmWe505S7gRPZXVh4YEFgJdYHy5: Block 69909305\n",
      "Balances for account 0x58a4Cae5e8dDA3a5614972F34951e482a29ef0f0: {'polygon': 0.0}\n",
      "✅ Connected to base via https://base-mainnet.g.alchemy.com/v2/6AUlaGmWe505S7gRPZXVh4YEFgJdYHy5: Block 28514879\n",
      "Balances for account 0x58a4Cae5e8dDA3a5614972F34951e482a29ef0f0: {'base': 0.0}\n",
      "{\n",
      "  \"0x38979DFdB5d8FD76FAD4E797c4660e20015C6a84\": {\n",
      "    \"ethereum\": {\n",
      "      \"usdc\": 0.0,\n",
      "      \"native_token\": 0.0\n",
      "    },\n",
      "    \"optimism\": {\n",
      "      \"usdc\": 19.0,\n",
      "      \"native_token\": 0.003123221328731566\n",
      "    },\n",
      "    \"avalanche\": {\n",
      "      \"usdc\": 0.0,\n",
      "      \"native_token\": 0.0\n",
      "    },\n",
      "    \"arbitrum\": {\n",
      "      \"usdc\": 1.554761,\n",
      "      \"native_token\": 0.007981819465001476\n",
      "    },\n",
      "    \"polygon\": {\n",
      "      \"usdc\": 0.0,\n",
      "      \"native_token\": 0.0\n",
      "    },\n",
      "    \"base\": {\n",
      "      \"usdc\": 0.0,\n",
      "      \"native_token\": 0.0\n",
      "    }\n",
      "  },\n",
      "  \"0x58a4Cae5e8dDA3a5614972F34951e482a29ef0f0\": {\n",
      "    \"ethereum\": {\n",
      "      \"usdc\": 0.0,\n",
      "      \"native_token\": 0.0\n",
      "    },\n",
      "    \"optimism\": {\n",
      "      \"usdc\": 0.0,\n",
      "      \"native_token\": 0.0005\n",
      "    },\n",
      "    \"avalanche\": {\n",
      "      \"usdc\": 0.0,\n",
      "      \"native_token\": 0.0\n",
      "    },\n",
      "    \"arbitrum\": {\n",
      "      \"usdc\": 2.0,\n",
      "      \"native_token\": 0.001\n",
      "    },\n",
      "    \"polygon\": {\n",
      "      \"usdc\": 0.0,\n",
      "      \"native_token\": 0.0\n",
      "    },\n",
      "    \"base\": {\n",
      "      \"usdc\": 0.0,\n",
      "      \"native_token\": 0.0\n",
      "    }\n",
      "  }\n",
      "}\n"
     ]
    }
   ],
   "source": [
    "BALANCES_DICT, TOKEN_CONTRACTS, TOKEN_DECIMALS = get_usdc_data()"
   ]
  },
  {
   "cell_type": "code",
   "execution_count": 6,
   "metadata": {},
   "outputs": [],
   "source": [
    "source_chain = 'arbitrum'\n",
    "dest_chain = 'optimism'\n",
    "amount = 1 "
   ]
  },
  {
   "cell_type": "code",
   "execution_count": 7,
   "metadata": {},
   "outputs": [],
   "source": [
    "w3 = w3_accounts[0]['w3']"
   ]
  },
  {
   "cell_type": "code",
   "execution_count": 8,
   "metadata": {},
   "outputs": [
    {
     "data": {
      "text/plain": [
       "'0x38979DFdB5d8FD76FAD4E797c4660e20015C6a84'"
      ]
     },
     "execution_count": 8,
     "metadata": {},
     "output_type": "execute_result"
    }
   ],
   "source": [
    "ACCOUNT_ADDRESS = w3_accounts[0]['account'].address\n",
    "ACCOUNT_ADDRESS"
   ]
  },
  {
   "cell_type": "code",
   "execution_count": 9,
   "metadata": {},
   "outputs": [
    {
     "name": "stdout",
     "output_type": "stream",
     "text": [
      "✅ Connected to ethereum via https://eth-mainnet.g.alchemy.com/v2/6AUlaGmWe505S7gRPZXVh4YEFgJdYHy5: Block 22199650\n",
      "account 1: 0x38979DFdB5d8FD76FAD4E797c4660e20015C6a84\n",
      "✅ Connected to ethereum via https://eth-mainnet.g.alchemy.com/v2/6AUlaGmWe505S7gRPZXVh4YEFgJdYHy5: Block 22199650\n",
      "account 2: 0x58a4Cae5e8dDA3a5614972F34951e482a29ef0f0\n",
      "✅ Connected to ethereum via https://eth-mainnet.g.alchemy.com/v2/6AUlaGmWe505S7gRPZXVh4YEFgJdYHy5: Block 22199650\n",
      "Balances for account 0x38979DFdB5d8FD76FAD4E797c4660e20015C6a84: {'ethereum': 0.0}\n",
      "✅ Connected to optimism via https://opt-mainnet.g.alchemy.com/v2/6AUlaGmWe505S7gRPZXVh4YEFgJdYHy5: Block 134110164\n",
      "Balances for account 0x38979DFdB5d8FD76FAD4E797c4660e20015C6a84: {'optimism': 19.0}\n",
      "❌ Failed to connect to avalanche via https://avax-mainnet.g.alchemy.com/v2/6AUlaGmWe505S7gRPZXVh4YEFgJdYHy5. Trying next...\n",
      "✅ Connected to avalanche via https://avalanche-mainnet.infura.io/v3/d8cb9659ebdf487dbbc133d87d7c404c: Block 59731034\n",
      "Balances for account 0x38979DFdB5d8FD76FAD4E797c4660e20015C6a84: {'avalanche': 0.0}\n",
      "✅ Connected to arbitrum via https://arb-mainnet.g.alchemy.com/v2/6AUlaGmWe505S7gRPZXVh4YEFgJdYHy5: Block 323033743\n",
      "Balances for account 0x38979DFdB5d8FD76FAD4E797c4660e20015C6a84: {'arbitrum': 1.554761}\n",
      "✅ Connected to polygon via https://polygon-mainnet.g.alchemy.com/v2/6AUlaGmWe505S7gRPZXVh4YEFgJdYHy5: Block 69909308\n",
      "Balances for account 0x38979DFdB5d8FD76FAD4E797c4660e20015C6a84: {'polygon': 0.0}\n",
      "✅ Connected to base via https://base-mainnet.g.alchemy.com/v2/6AUlaGmWe505S7gRPZXVh4YEFgJdYHy5: Block 28514882\n",
      "Balances for account 0x38979DFdB5d8FD76FAD4E797c4660e20015C6a84: {'base': 0.0}\n",
      "✅ Connected to ethereum via https://eth-mainnet.g.alchemy.com/v2/6AUlaGmWe505S7gRPZXVh4YEFgJdYHy5: Block 22199651\n",
      "Balances for account 0x58a4Cae5e8dDA3a5614972F34951e482a29ef0f0: {'ethereum': 0.0}\n",
      "✅ Connected to optimism via https://opt-mainnet.g.alchemy.com/v2/6AUlaGmWe505S7gRPZXVh4YEFgJdYHy5: Block 134110168\n",
      "Balances for account 0x58a4Cae5e8dDA3a5614972F34951e482a29ef0f0: {'optimism': 0.0}\n",
      "❌ Failed to connect to avalanche via https://avax-mainnet.g.alchemy.com/v2/6AUlaGmWe505S7gRPZXVh4YEFgJdYHy5. Trying next...\n",
      "✅ Connected to avalanche via https://avalanche-mainnet.infura.io/v3/d8cb9659ebdf487dbbc133d87d7c404c: Block 59731036\n",
      "Balances for account 0x58a4Cae5e8dDA3a5614972F34951e482a29ef0f0: {'avalanche': 0.0}\n",
      "✅ Connected to arbitrum via https://arb-mainnet.g.alchemy.com/v2/6AUlaGmWe505S7gRPZXVh4YEFgJdYHy5: Block 323033767\n",
      "Balances for account 0x58a4Cae5e8dDA3a5614972F34951e482a29ef0f0: {'arbitrum': 2.0}\n",
      "✅ Connected to polygon via https://polygon-mainnet.g.alchemy.com/v2/6AUlaGmWe505S7gRPZXVh4YEFgJdYHy5: Block 69909311\n",
      "Balances for account 0x58a4Cae5e8dDA3a5614972F34951e482a29ef0f0: {'polygon': 0.0}\n",
      "✅ Connected to base via https://base-mainnet.g.alchemy.com/v2/6AUlaGmWe505S7gRPZXVh4YEFgJdYHy5: Block 28514885\n",
      "Balances for account 0x58a4Cae5e8dDA3a5614972F34951e482a29ef0f0: {'base': 0.0}\n",
      "{\n",
      "  \"0x38979DFdB5d8FD76FAD4E797c4660e20015C6a84\": {\n",
      "    \"ethereum\": {\n",
      "      \"usdc\": 0.0,\n",
      "      \"native_token\": 0.0\n",
      "    },\n",
      "    \"optimism\": {\n",
      "      \"usdc\": 19.0,\n",
      "      \"native_token\": 0.003123221328731566\n",
      "    },\n",
      "    \"avalanche\": {\n",
      "      \"usdc\": 0.0,\n",
      "      \"native_token\": 0.0\n",
      "    },\n",
      "    \"arbitrum\": {\n",
      "      \"usdc\": 1.554761,\n",
      "      \"native_token\": 0.007981819465001476\n",
      "    },\n",
      "    \"polygon\": {\n",
      "      \"usdc\": 0.0,\n",
      "      \"native_token\": 0.0\n",
      "    },\n",
      "    \"base\": {\n",
      "      \"usdc\": 0.0,\n",
      "      \"native_token\": 0.0\n",
      "    }\n",
      "  },\n",
      "  \"0x58a4Cae5e8dDA3a5614972F34951e482a29ef0f0\": {\n",
      "    \"ethereum\": {\n",
      "      \"usdc\": 0.0,\n",
      "      \"native_token\": 0.0\n",
      "    },\n",
      "    \"optimism\": {\n",
      "      \"usdc\": 0.0,\n",
      "      \"native_token\": 0.0005\n",
      "    },\n",
      "    \"avalanche\": {\n",
      "      \"usdc\": 0.0,\n",
      "      \"native_token\": 0.0\n",
      "    },\n",
      "    \"arbitrum\": {\n",
      "      \"usdc\": 2.0,\n",
      "      \"native_token\": 0.001\n",
      "    },\n",
      "    \"polygon\": {\n",
      "      \"usdc\": 0.0,\n",
      "      \"native_token\": 0.0\n",
      "    },\n",
      "    \"base\": {\n",
      "      \"usdc\": 0.0,\n",
      "      \"native_token\": 0.0\n",
      "    }\n",
      "  }\n",
      "}\n",
      "✅ Connected to arbitrum via https://arb-mainnet.g.alchemy.com/v2/6AUlaGmWe505S7gRPZXVh4YEFgJdYHy5: Block 323033779\n",
      "account 1: 0x38979DFdB5d8FD76FAD4E797c4660e20015C6a84\n",
      "✅ Connected to arbitrum via https://arb-mainnet.g.alchemy.com/v2/6AUlaGmWe505S7gRPZXVh4YEFgJdYHy5: Block 323033781\n",
      "account 2: 0x58a4Cae5e8dDA3a5614972F34951e482a29ef0f0\n",
      "token_balance: 1554761\n",
      "required_amount: 1000000\n",
      "Current allowance: 115792089237316195423570985008687907853269984665640564039457584007913107639935\n",
      "✅ Sufficient allowance (115792089237316195423570985008687907853269984665640564039457584007913107639935), skipping approval.\n",
      "✅ Destination chain selector 3734403246176062136 is supported\n",
      "extraArgs: 97a657c90000000000000000000000000000000000000000000000000000000000030d40\n",
      "raw_fee: 139335021597345\n",
      "fee: 153268523757079\n"
     ]
    },
    {
     "name": "stderr",
     "output_type": "stream",
     "text": [
      "--- Logging error ---\n",
      "Traceback (most recent call last):\n",
      "  File \"e:\\projects\\usdc-transfer\\usdc_transfer\\utils.py\", line 272, in estimate_dynamic_gas\n",
      "    estimated = router.functions.ccipSend(dest_selector, message).estimate_gas({'from': account})\n",
      "                ^^^^^^^^^^^^^^^^^^^^^^^^^^^^^^^^^^^^^^^^^^^^^^^^^^^^^^^^^^^^^^^^^^^^^^^^^^^^^^^^^\n",
      "  File \"e:\\Projects\\defiquant\\test_env\\Lib\\site-packages\\web3\\contract\\contract.py\", line 330, in estimate_gas\n",
      "    return estimate_gas_for_function(\n",
      "           ^^^^^^^^^^^^^^^^^^^^^^^^^^\n",
      "  File \"e:\\Projects\\defiquant\\test_env\\Lib\\site-packages\\web3\\contract\\utils.py\", line 301, in estimate_gas_for_function\n",
      "    return w3.eth.estimate_gas(estimate_transaction, block_identifier, state_override)\n",
      "           ^^^^^^^^^^^^^^^^^^^^^^^^^^^^^^^^^^^^^^^^^^^^^^^^^^^^^^^^^^^^^^^^^^^^^^^^^^^\n",
      "  File \"e:\\Projects\\defiquant\\test_env\\Lib\\site-packages\\web3\\eth\\eth.py\", line 316, in estimate_gas\n",
      "    return self._estimate_gas(transaction, block_identifier, state_override)\n",
      "           ^^^^^^^^^^^^^^^^^^^^^^^^^^^^^^^^^^^^^^^^^^^^^^^^^^^^^^^^^^^^^^^^^\n",
      "  File \"e:\\Projects\\defiquant\\test_env\\Lib\\site-packages\\web3\\module.py\", line 112, in caller\n",
      "    result = w3.manager.request_blocking(\n",
      "             ^^^^^^^^^^^^^^^^^^^^^^^^^^^^\n",
      "  File \"e:\\Projects\\defiquant\\test_env\\Lib\\site-packages\\web3\\manager.py\", line 232, in request_blocking\n",
      "    return self.formatted_response(\n",
      "           ^^^^^^^^^^^^^^^^^^^^^^^^\n",
      "  File \"e:\\Projects\\defiquant\\test_env\\Lib\\site-packages\\web3\\manager.py\", line 198, in formatted_response\n",
      "    validate_rpc_response_and_raise_if_error(\n",
      "  File \"e:\\Projects\\defiquant\\test_env\\Lib\\site-packages\\web3\\_utils\\validation.py\", line 397, in validate_rpc_response_and_raise_if_error\n",
      "    response = apply_error_formatters(error_formatters, response)\n",
      "               ^^^^^^^^^^^^^^^^^^^^^^^^^^^^^^^^^^^^^^^^^^^^^^^^^^\n",
      "  File \"e:\\Projects\\defiquant\\test_env\\Lib\\site-packages\\web3\\_utils\\formatters.py\", line 146, in apply_error_formatters\n",
      "    formatted_resp = pipe(response, error_formatters)\n",
      "                     ^^^^^^^^^^^^^^^^^^^^^^^^^^^^^^^^\n",
      "  File \"cytoolz\\\\functoolz.pyx\", line 685, in cytoolz.functoolz.pipe\n",
      "  File \"cytoolz\\\\functoolz.pyx\", line 660, in cytoolz.functoolz.c_pipe\n",
      "  File \"e:\\Projects\\defiquant\\test_env\\Lib\\site-packages\\web3\\_utils\\error_formatters_utils.py\", line 160, in raise_contract_logic_error_on_revert\n",
      "    _raise_contract_error(data)\n",
      "  File \"e:\\Projects\\defiquant\\test_env\\Lib\\site-packages\\web3\\_utils\\error_formatters_utils.py\", line 132, in _raise_contract_error\n",
      "    raise ContractCustomError(response_error_data, data=response_error_data)\n",
      "web3.exceptions.ContractCustomError: ('0x07da6ee6', '0x07da6ee6')\n",
      "\n",
      "During handling of the above exception, another exception occurred:\n",
      "\n",
      "Traceback (most recent call last):\n",
      "  File \"C:\\Users\\brandyns pc\\AppData\\Local\\Programs\\Python\\Python311\\Lib\\logging\\__init__.py\", line 1113, in emit\n",
      "    stream.write(msg + self.terminator)\n",
      "  File \"C:\\Users\\brandyns pc\\AppData\\Local\\Programs\\Python\\Python311\\Lib\\encodings\\cp1252.py\", line 19, in encode\n",
      "    return codecs.charmap_encode(input,self.errors,encoding_table)[0]\n",
      "           ^^^^^^^^^^^^^^^^^^^^^^^^^^^^^^^^^^^^^^^^^^^^^^^^^^^^^^^\n",
      "UnicodeEncodeError: 'charmap' codec can't encode characters in position 36-37: character maps to <undefined>\n",
      "Call stack:\n",
      "  File \"<frozen runpy>\", line 198, in _run_module_as_main\n",
      "  File \"<frozen runpy>\", line 88, in _run_code\n",
      "  File \"e:\\Projects\\defiquant\\test_env\\Lib\\site-packages\\ipykernel_launcher.py\", line 18, in <module>\n",
      "    app.launch_new_instance()\n",
      "  File \"e:\\Projects\\defiquant\\test_env\\Lib\\site-packages\\traitlets\\config\\application.py\", line 1075, in launch_instance\n",
      "    app.start()\n",
      "  File \"e:\\Projects\\defiquant\\test_env\\Lib\\site-packages\\ipykernel\\kernelapp.py\", line 739, in start\n",
      "    self.io_loop.start()\n",
      "  File \"e:\\Projects\\defiquant\\test_env\\Lib\\site-packages\\tornado\\platform\\asyncio.py\", line 205, in start\n",
      "    self.asyncio_loop.run_forever()\n",
      "  File \"C:\\Users\\brandyns pc\\AppData\\Local\\Programs\\Python\\Python311\\Lib\\asyncio\\base_events.py\", line 608, in run_forever\n",
      "    self._run_once()\n",
      "  File \"C:\\Users\\brandyns pc\\AppData\\Local\\Programs\\Python\\Python311\\Lib\\asyncio\\base_events.py\", line 1936, in _run_once\n",
      "    handle._run()\n",
      "  File \"C:\\Users\\brandyns pc\\AppData\\Local\\Programs\\Python\\Python311\\Lib\\asyncio\\events.py\", line 84, in _run\n",
      "    self._context.run(self._callback, *self._args)\n",
      "  File \"e:\\Projects\\defiquant\\test_env\\Lib\\site-packages\\ipykernel\\kernelbase.py\", line 545, in dispatch_queue\n",
      "    await self.process_one()\n",
      "  File \"e:\\Projects\\defiquant\\test_env\\Lib\\site-packages\\ipykernel\\kernelbase.py\", line 534, in process_one\n",
      "    await dispatch(*args)\n",
      "  File \"e:\\Projects\\defiquant\\test_env\\Lib\\site-packages\\ipykernel\\kernelbase.py\", line 437, in dispatch_shell\n",
      "    await result\n",
      "  File \"e:\\Projects\\defiquant\\test_env\\Lib\\site-packages\\ipykernel\\ipkernel.py\", line 362, in execute_request\n",
      "    await super().execute_request(stream, ident, parent)\n",
      "  File \"e:\\Projects\\defiquant\\test_env\\Lib\\site-packages\\ipykernel\\kernelbase.py\", line 778, in execute_request\n",
      "    reply_content = await reply_content\n",
      "  File \"e:\\Projects\\defiquant\\test_env\\Lib\\site-packages\\ipykernel\\ipkernel.py\", line 449, in do_execute\n",
      "    res = shell.run_cell(\n",
      "  File \"e:\\Projects\\defiquant\\test_env\\Lib\\site-packages\\ipykernel\\zmqshell.py\", line 549, in run_cell\n",
      "    return super().run_cell(*args, **kwargs)\n",
      "  File \"e:\\Projects\\defiquant\\test_env\\Lib\\site-packages\\IPython\\core\\interactiveshell.py\", line 3047, in run_cell\n",
      "    result = self._run_cell(\n",
      "  File \"e:\\Projects\\defiquant\\test_env\\Lib\\site-packages\\IPython\\core\\interactiveshell.py\", line 3102, in _run_cell\n",
      "    result = runner(coro)\n",
      "  File \"e:\\Projects\\defiquant\\test_env\\Lib\\site-packages\\IPython\\core\\async_helpers.py\", line 128, in _pseudo_sync_runner\n",
      "    coro.send(None)\n",
      "  File \"e:\\Projects\\defiquant\\test_env\\Lib\\site-packages\\IPython\\core\\interactiveshell.py\", line 3306, in run_cell_async\n",
      "    has_raised = await self.run_ast_nodes(code_ast.body, cell_name,\n",
      "  File \"e:\\Projects\\defiquant\\test_env\\Lib\\site-packages\\IPython\\core\\interactiveshell.py\", line 3489, in run_ast_nodes\n",
      "    if await self.run_code(code, result, async_=asy):\n",
      "  File \"e:\\Projects\\defiquant\\test_env\\Lib\\site-packages\\IPython\\core\\interactiveshell.py\", line 3549, in run_code\n",
      "    exec(code_obj, self.user_global_ns, self.user_ns)\n",
      "  File \"C:\\Users\\brandyns pc\\AppData\\Local\\Temp\\ipykernel_26796\\686266694.py\", line 3, in <module>\n",
      "    receipt, message_id = send_ccip_transfer(\n",
      "  File \"e:\\projects\\usdc-transfer\\usdc_transfer\\ccip.py\", line 85, in send_ccip_transfer\n",
      "    gas_limit = estimate_dynamic_gas(router, dest_selector, message, account.address)\n",
      "  File \"e:\\projects\\usdc-transfer\\usdc_transfer\\utils.py\", line 280, in estimate_dynamic_gas\n",
      "    logger.warning(f\"⚠️ Gas estimation failed, fallback used. Reason: {e}\")\n",
      "Message: \"⚠️ Gas estimation failed, fallback used. Reason: ('0x07da6ee6', '0x07da6ee6')\"\n",
      "Arguments: ()\n",
      "2025-04-04 21:12:01,043 - WARNING - ⚠️ Gas estimation failed, fallback used. Reason: ('0x07da6ee6', '0x07da6ee6')\n"
     ]
    },
    {
     "name": "stdout",
     "output_type": "stream",
     "text": [
      "native_balance: 0.007981819465001476 ETH\n",
      "Estimates → Fee: 0.000153268523757079 ETH, Gas Limit: 360000, Max Fee: 2.01 gwei\n",
      "Total Estimated Cost: 0.000876868523757079 ETH\n"
     ]
    },
    {
     "name": "stderr",
     "output_type": "stream",
     "text": [
      "--- Logging error ---\n",
      "Traceback (most recent call last):\n",
      "  File \"C:\\Users\\brandyns pc\\AppData\\Local\\Programs\\Python\\Python311\\Lib\\logging\\__init__.py\", line 1113, in emit\n",
      "    stream.write(msg + self.terminator)\n",
      "  File \"C:\\Users\\brandyns pc\\AppData\\Local\\Programs\\Python\\Python311\\Lib\\encodings\\cp1252.py\", line 19, in encode\n",
      "    return codecs.charmap_encode(input,self.errors,encoding_table)[0]\n",
      "           ^^^^^^^^^^^^^^^^^^^^^^^^^^^^^^^^^^^^^^^^^^^^^^^^^^^^^^^\n",
      "UnicodeEncodeError: 'charmap' codec can't encode character '\\U0001f4e8' in position 33: character maps to <undefined>\n",
      "Call stack:\n",
      "  File \"<frozen runpy>\", line 198, in _run_module_as_main\n",
      "  File \"<frozen runpy>\", line 88, in _run_code\n",
      "  File \"e:\\Projects\\defiquant\\test_env\\Lib\\site-packages\\ipykernel_launcher.py\", line 18, in <module>\n",
      "    app.launch_new_instance()\n",
      "  File \"e:\\Projects\\defiquant\\test_env\\Lib\\site-packages\\traitlets\\config\\application.py\", line 1075, in launch_instance\n",
      "    app.start()\n",
      "  File \"e:\\Projects\\defiquant\\test_env\\Lib\\site-packages\\ipykernel\\kernelapp.py\", line 739, in start\n",
      "    self.io_loop.start()\n",
      "  File \"e:\\Projects\\defiquant\\test_env\\Lib\\site-packages\\tornado\\platform\\asyncio.py\", line 205, in start\n",
      "    self.asyncio_loop.run_forever()\n",
      "  File \"C:\\Users\\brandyns pc\\AppData\\Local\\Programs\\Python\\Python311\\Lib\\asyncio\\base_events.py\", line 608, in run_forever\n",
      "    self._run_once()\n",
      "  File \"C:\\Users\\brandyns pc\\AppData\\Local\\Programs\\Python\\Python311\\Lib\\asyncio\\base_events.py\", line 1936, in _run_once\n",
      "    handle._run()\n",
      "  File \"C:\\Users\\brandyns pc\\AppData\\Local\\Programs\\Python\\Python311\\Lib\\asyncio\\events.py\", line 84, in _run\n",
      "    self._context.run(self._callback, *self._args)\n",
      "  File \"e:\\Projects\\defiquant\\test_env\\Lib\\site-packages\\ipykernel\\kernelbase.py\", line 545, in dispatch_queue\n",
      "    await self.process_one()\n",
      "  File \"e:\\Projects\\defiquant\\test_env\\Lib\\site-packages\\ipykernel\\kernelbase.py\", line 534, in process_one\n",
      "    await dispatch(*args)\n",
      "  File \"e:\\Projects\\defiquant\\test_env\\Lib\\site-packages\\ipykernel\\kernelbase.py\", line 437, in dispatch_shell\n",
      "    await result\n",
      "  File \"e:\\Projects\\defiquant\\test_env\\Lib\\site-packages\\ipykernel\\ipkernel.py\", line 362, in execute_request\n",
      "    await super().execute_request(stream, ident, parent)\n",
      "  File \"e:\\Projects\\defiquant\\test_env\\Lib\\site-packages\\ipykernel\\kernelbase.py\", line 778, in execute_request\n",
      "    reply_content = await reply_content\n",
      "  File \"e:\\Projects\\defiquant\\test_env\\Lib\\site-packages\\ipykernel\\ipkernel.py\", line 449, in do_execute\n",
      "    res = shell.run_cell(\n",
      "  File \"e:\\Projects\\defiquant\\test_env\\Lib\\site-packages\\ipykernel\\zmqshell.py\", line 549, in run_cell\n",
      "    return super().run_cell(*args, **kwargs)\n",
      "  File \"e:\\Projects\\defiquant\\test_env\\Lib\\site-packages\\IPython\\core\\interactiveshell.py\", line 3047, in run_cell\n",
      "    result = self._run_cell(\n",
      "  File \"e:\\Projects\\defiquant\\test_env\\Lib\\site-packages\\IPython\\core\\interactiveshell.py\", line 3102, in _run_cell\n",
      "    result = runner(coro)\n",
      "  File \"e:\\Projects\\defiquant\\test_env\\Lib\\site-packages\\IPython\\core\\async_helpers.py\", line 128, in _pseudo_sync_runner\n",
      "    coro.send(None)\n",
      "  File \"e:\\Projects\\defiquant\\test_env\\Lib\\site-packages\\IPython\\core\\interactiveshell.py\", line 3306, in run_cell_async\n",
      "    has_raised = await self.run_ast_nodes(code_ast.body, cell_name,\n",
      "  File \"e:\\Projects\\defiquant\\test_env\\Lib\\site-packages\\IPython\\core\\interactiveshell.py\", line 3489, in run_ast_nodes\n",
      "    if await self.run_code(code, result, async_=asy):\n",
      "  File \"e:\\Projects\\defiquant\\test_env\\Lib\\site-packages\\IPython\\core\\interactiveshell.py\", line 3549, in run_code\n",
      "    exec(code_obj, self.user_global_ns, self.user_ns)\n",
      "  File \"C:\\Users\\brandyns pc\\AppData\\Local\\Temp\\ipykernel_26796\\686266694.py\", line 3, in <module>\n",
      "    receipt, message_id = send_ccip_transfer(\n",
      "  File \"e:\\projects\\usdc-transfer\\usdc_transfer\\ccip.py\", line 128, in send_ccip_transfer\n",
      "    logger.info(f\"📨 CCIP messageId (pre-send): {message_id.hex()}\")\n",
      "Message: '📨 CCIP messageId (pre-send): 614833293f3333be3405ad8a4ce8b8f977c856dc0714441792b01fcafdfd5b0e'\n",
      "Arguments: ()\n",
      "2025-04-04 21:12:01,979 - INFO - 📨 CCIP messageId (pre-send): 614833293f3333be3405ad8a4ce8b8f977c856dc0714441792b01fcafdfd5b0e\n",
      "--- Logging error ---\n",
      "Traceback (most recent call last):\n",
      "  File \"C:\\Users\\brandyns pc\\AppData\\Local\\Programs\\Python\\Python311\\Lib\\logging\\__init__.py\", line 1113, in emit\n",
      "    stream.write(msg + self.terminator)\n",
      "  File \"C:\\Users\\brandyns pc\\AppData\\Local\\Programs\\Python\\Python311\\Lib\\encodings\\cp1252.py\", line 19, in encode\n",
      "    return codecs.charmap_encode(input,self.errors,encoding_table)[0]\n",
      "           ^^^^^^^^^^^^^^^^^^^^^^^^^^^^^^^^^^^^^^^^^^^^^^^^^^^^^^^\n",
      "UnicodeEncodeError: 'charmap' codec can't encode character '\\u2705' in position 33: character maps to <undefined>\n",
      "Call stack:\n",
      "  File \"<frozen runpy>\", line 198, in _run_module_as_main\n",
      "  File \"<frozen runpy>\", line 88, in _run_code\n",
      "  File \"e:\\Projects\\defiquant\\test_env\\Lib\\site-packages\\ipykernel_launcher.py\", line 18, in <module>\n",
      "    app.launch_new_instance()\n",
      "  File \"e:\\Projects\\defiquant\\test_env\\Lib\\site-packages\\traitlets\\config\\application.py\", line 1075, in launch_instance\n",
      "    app.start()\n",
      "  File \"e:\\Projects\\defiquant\\test_env\\Lib\\site-packages\\ipykernel\\kernelapp.py\", line 739, in start\n",
      "    self.io_loop.start()\n",
      "  File \"e:\\Projects\\defiquant\\test_env\\Lib\\site-packages\\tornado\\platform\\asyncio.py\", line 205, in start\n",
      "    self.asyncio_loop.run_forever()\n",
      "  File \"C:\\Users\\brandyns pc\\AppData\\Local\\Programs\\Python\\Python311\\Lib\\asyncio\\base_events.py\", line 608, in run_forever\n",
      "    self._run_once()\n",
      "  File \"C:\\Users\\brandyns pc\\AppData\\Local\\Programs\\Python\\Python311\\Lib\\asyncio\\base_events.py\", line 1936, in _run_once\n",
      "    handle._run()\n",
      "  File \"C:\\Users\\brandyns pc\\AppData\\Local\\Programs\\Python\\Python311\\Lib\\asyncio\\events.py\", line 84, in _run\n",
      "    self._context.run(self._callback, *self._args)\n",
      "  File \"e:\\Projects\\defiquant\\test_env\\Lib\\site-packages\\ipykernel\\kernelbase.py\", line 545, in dispatch_queue\n",
      "    await self.process_one()\n",
      "  File \"e:\\Projects\\defiquant\\test_env\\Lib\\site-packages\\ipykernel\\kernelbase.py\", line 534, in process_one\n",
      "    await dispatch(*args)\n",
      "  File \"e:\\Projects\\defiquant\\test_env\\Lib\\site-packages\\ipykernel\\kernelbase.py\", line 437, in dispatch_shell\n",
      "    await result\n",
      "  File \"e:\\Projects\\defiquant\\test_env\\Lib\\site-packages\\ipykernel\\ipkernel.py\", line 362, in execute_request\n",
      "    await super().execute_request(stream, ident, parent)\n",
      "  File \"e:\\Projects\\defiquant\\test_env\\Lib\\site-packages\\ipykernel\\kernelbase.py\", line 778, in execute_request\n",
      "    reply_content = await reply_content\n",
      "  File \"e:\\Projects\\defiquant\\test_env\\Lib\\site-packages\\ipykernel\\ipkernel.py\", line 449, in do_execute\n",
      "    res = shell.run_cell(\n",
      "  File \"e:\\Projects\\defiquant\\test_env\\Lib\\site-packages\\ipykernel\\zmqshell.py\", line 549, in run_cell\n",
      "    return super().run_cell(*args, **kwargs)\n",
      "  File \"e:\\Projects\\defiquant\\test_env\\Lib\\site-packages\\IPython\\core\\interactiveshell.py\", line 3047, in run_cell\n",
      "    result = self._run_cell(\n",
      "  File \"e:\\Projects\\defiquant\\test_env\\Lib\\site-packages\\IPython\\core\\interactiveshell.py\", line 3102, in _run_cell\n",
      "    result = runner(coro)\n",
      "  File \"e:\\Projects\\defiquant\\test_env\\Lib\\site-packages\\IPython\\core\\async_helpers.py\", line 128, in _pseudo_sync_runner\n",
      "    coro.send(None)\n",
      "  File \"e:\\Projects\\defiquant\\test_env\\Lib\\site-packages\\IPython\\core\\interactiveshell.py\", line 3306, in run_cell_async\n",
      "    has_raised = await self.run_ast_nodes(code_ast.body, cell_name,\n",
      "  File \"e:\\Projects\\defiquant\\test_env\\Lib\\site-packages\\IPython\\core\\interactiveshell.py\", line 3489, in run_ast_nodes\n",
      "    if await self.run_code(code, result, async_=asy):\n",
      "  File \"e:\\Projects\\defiquant\\test_env\\Lib\\site-packages\\IPython\\core\\interactiveshell.py\", line 3549, in run_code\n",
      "    exec(code_obj, self.user_global_ns, self.user_ns)\n",
      "  File \"C:\\Users\\brandyns pc\\AppData\\Local\\Temp\\ipykernel_26796\\686266694.py\", line 3, in <module>\n",
      "    receipt, message_id = send_ccip_transfer(\n",
      "  File \"e:\\projects\\usdc-transfer\\usdc_transfer\\ccip.py\", line 138, in send_ccip_transfer\n",
      "    logger.info(f\"✅ CCIP Transfer submitted (Type {tx_type}): {tx_hash.hex()} | View: {url}\")\n",
      "Message: '✅ CCIP Transfer submitted (Type 2): 1ea11b38d82eac45038f075ceb0380f80a0301e51908559bf8f1e57b42599df8 | View: https://ccip-bradford-solana-streams-chainlinklabs.vercel.app/tx/0x1ea11b38d82eac45038f075ceb0380f80a0301e51908559bf8f1e57b42599df8'\n",
      "Arguments: ()\n",
      "2025-04-04 21:12:03,606 - INFO - ✅ CCIP Transfer submitted (Type 2): 1ea11b38d82eac45038f075ceb0380f80a0301e51908559bf8f1e57b42599df8 | View: https://ccip-bradford-solana-streams-chainlinklabs.vercel.app/tx/0x1ea11b38d82eac45038f075ceb0380f80a0301e51908559bf8f1e57b42599df8\n"
     ]
    }
   ],
   "source": [
    "# Can add helper parameters; can make dynamic destination chain depending on the chain with most liquidity after each transfer\n",
    "\n",
    "receipt, message_id = send_ccip_transfer(\n",
    "    to_address=ACCOUNT_ADDRESS,\n",
    "    dest_chain=dest_chain,\n",
    "    amount=amount,\n",
    "    account_index=0,\n",
    "    source_chain=source_chain\n",
    ")"
   ]
  },
  {
   "cell_type": "code",
   "execution_count": 10,
   "metadata": {},
   "outputs": [
    {
     "data": {
      "text/plain": [
       "'614833293f3333be3405ad8a4ce8b8f977c856dc0714441792b01fcafdfd5b0e'"
      ]
     },
     "execution_count": 10,
     "metadata": {},
     "output_type": "execute_result"
    }
   ],
   "source": [
    "message_id"
   ]
  },
  {
   "cell_type": "code",
   "execution_count": 11,
   "metadata": {},
   "outputs": [],
   "source": [
    "# message_id_hex = '58d8ece7b42ff7cd30b04c6f4ddac0fae98f7ceeaf24aa3534b8a14438405043'\n",
    "# message_id_hex"
   ]
  },
  {
   "cell_type": "markdown",
   "metadata": {},
   "source": [
    "58d8ece7b42ff7cd30b04c6f4ddac0fae98f7ceeaf24aa3534b8a14438405043"
   ]
  },
  {
   "cell_type": "code",
   "execution_count": 12,
   "metadata": {},
   "outputs": [
    {
     "name": "stdout",
     "output_type": "stream",
     "text": [
      "🧠 Dynamic topic0: d4f851956a5d67c3997d1c9205045fef79bae2947fdee7e9e2641abc7391ef65\n"
     ]
    }
   ],
   "source": [
    "event_signature_str = \"ExecutionStateChanged(uint64,bytes32,uint8,bytes)\"\n",
    "\n",
    "# Compute the keccak256 hash (returns bytes, so convert to hex)\n",
    "topic0 = keccak(text=event_signature_str).hex()\n",
    "\n",
    "print(f\"🧠 Dynamic topic0: {topic0}\")"
   ]
  },
  {
   "cell_type": "code",
   "execution_count": 13,
   "metadata": {},
   "outputs": [
    {
     "name": "stdout",
     "output_type": "stream",
     "text": [
      "⏳ Attempt 1/15 – retrying in 120s...\n",
      "⏳ Attempt 2/15 – retrying in 120s...\n",
      "⏳ Attempt 3/15 – retrying in 120s...\n",
      "⏳ Attempt 4/15 – retrying in 120s...\n",
      "⏳ Attempt 5/15 – retrying in 120s...\n",
      "⏳ Attempt 6/15 – retrying in 120s...\n",
      "⏳ Attempt 7/15 – retrying in 120s...\n",
      "⏳ Attempt 8/15 – retrying in 120s...\n",
      "⏳ Attempt 9/15 – retrying in 120s...\n",
      "⏳ Attempt 10/15 – retrying in 120s...\n",
      "⏳ Attempt 11/15 – retrying in 120s...\n",
      "✅ Found status for message 614833293f3333be3405ad8a4ce8b8f977c856dc0714441792b01fcafdfd5b0e on 0xeb3d6956bcf7b1e29634c8cd182fc9fa740bce34: SUCCESS\n",
      "SUCCESS\n"
     ]
    }
   ],
   "source": [
    "status_str, offramp_address = check_ccip_message_status(message_id, dest_chain, \n",
    "                                                        wait=True, poll_interval=120, max_retries=15) #we monitor for 30 minutes\n",
    "print(status_str)"
   ]
  },
  {
   "cell_type": "code",
   "execution_count": null,
   "metadata": {},
   "outputs": [],
   "source": []
  }
 ],
 "metadata": {
  "kernelspec": {
   "display_name": "test_env",
   "language": "python",
   "name": "python3"
  },
  "language_info": {
   "codemirror_mode": {
    "name": "ipython",
    "version": 3
   },
   "file_extension": ".py",
   "mimetype": "text/x-python",
   "name": "python",
   "nbconvert_exporter": "python",
   "pygments_lexer": "ipython3",
   "version": "3.11.9"
  }
 },
 "nbformat": 4,
 "nbformat_minor": 2
}
